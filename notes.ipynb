{
 "cells": [
  {
   "cell_type": "code",
   "execution_count": 1,
   "metadata": {
    "metadata": {}
   },
   "outputs": [
    {
     "data": {
      "text/latex": [
       "$\\displaystyle 8 x^{3} + 2 x$"
      ],
      "text/plain": [
       "8*x**3 + 2*x"
      ]
     },
     "execution_count": 1,
     "metadata": {},
     "output_type": "execute_result"
    }
   ],
   "source": [
    "import numpy as np\n",
    "from math import factorial\n",
    "import sympy\n",
    "x=sympy.Symbol('x')\n",
    "Phi=np.sum([(factorial(n))\n",
    "            *(np.power(x,(2*n))) for n in range(3)])\n",
    "sympy.Derivative(Phi,x, evaluate=True)"
   ]
  },
  {
   "cell_type": "code",
   "execution_count": 2,
   "metadata": {
    "metadata": {}
   },
   "outputs": [
    {
     "name": "stderr",
     "output_type": "stream",
     "text": [
      "INFO:potentials:Opt args: ['c0', 'c1', 'c2', 'c3']\n",
      "INFO:trap_model:[-2.25e-05 -1.75e-05 -1.25e-05 -7.50e-06 -2.50e-06  2.50e-06  7.50e-06\n",
      "  1.25e-05  1.75e-05  2.25e-05]\n",
      "INFO:trap_model:[0.0004853641198238621, 0.0011719569525784203, -0.0003160076891359874, 7.042185323506232e-05]\n",
      "/home/davis/anaconda3/envs/iontraps/lib/python3.12/site-packages/scipy/optimize/_minimize.py:729: RuntimeWarning: Maximum number of iterations has been exceeded.\n",
      "  res = _minimize_trust_ncg(fun, x0, args, jac, hess, hessp,\n",
      "INFO:trap_model:[-7.57718387e-01 -3.70431847e-05 -1.78281136e-05 -1.29618134e-05\n",
      " -3.94838441e-06  3.94838441e-06  1.29618134e-05  1.78281136e-05\n",
      "  3.70431847e-05  7.57718387e-01]\n",
      "INFO:trap_model:Err 0.11482061160579762\n"
     ]
    },
    {
     "name": "stdout",
     "output_type": "stream",
     "text": [
      "         Current function value: -392218078856154060133761024.000000\n",
      "         Iterations: 400\n",
      "         Function evaluations: 401\n",
      "         Gradient evaluations: 401\n",
      "         Hessian evaluations: 400\n"
     ]
    },
    {
     "name": "stderr",
     "output_type": "stream",
     "text": [
      "INFO:trap_model:[-7.57718387e-01 -3.70431847e-05 -1.78281136e-05 -1.29618134e-05\n",
      " -3.94838441e-06  3.94838441e-06  1.29618134e-05  1.78281136e-05\n",
      "  3.70431847e-05  7.57718387e-01]\n",
      "INFO:trap_model:Err 0.11482061160579762\n"
     ]
    },
    {
     "name": "stdout",
     "output_type": "stream",
     "text": [
      "         Current function value: -392218078856154060133761024.000000\n",
      "         Iterations: 400\n",
      "         Function evaluations: 401\n",
      "         Gradient evaluations: 401\n",
      "         Hessian evaluations: 400\n"
     ]
    },
    {
     "name": "stderr",
     "output_type": "stream",
     "text": [
      "INFO:trap_model:[-7.57718387e-01 -3.70431847e-05 -1.78281136e-05 -1.29618134e-05\n",
      " -3.94838441e-06  3.94838441e-06  1.29618134e-05  1.78281136e-05\n",
      "  3.70431847e-05  7.57718387e-01]\n",
      "INFO:trap_model:Err 0.11482061160579762\n"
     ]
    },
    {
     "name": "stdout",
     "output_type": "stream",
     "text": [
      "         Current function value: -392218078856154060133761024.000000\n",
      "         Iterations: 400\n",
      "         Function evaluations: 401\n",
      "         Gradient evaluations: 401\n",
      "         Hessian evaluations: 400\n"
     ]
    },
    {
     "name": "stderr",
     "output_type": "stream",
     "text": [
      "INFO:trap_model:[-7.57718387e-01 -3.70431847e-05 -1.78281136e-05 -1.29618134e-05\n",
      " -3.94838441e-06  3.94838441e-06  1.29618134e-05  1.78281136e-05\n",
      "  3.70431847e-05  7.57718387e-01]\n",
      "INFO:trap_model:Err 0.11482061160579762\n"
     ]
    },
    {
     "name": "stdout",
     "output_type": "stream",
     "text": [
      "         Current function value: -392218078856154060133761024.000000\n",
      "         Iterations: 400\n",
      "         Function evaluations: 401\n",
      "         Gradient evaluations: 401\n",
      "         Hessian evaluations: 400\n"
     ]
    },
    {
     "name": "stderr",
     "output_type": "stream",
     "text": [
      "INFO:trap_model:[-7.57718387e-01 -3.70431847e-05 -1.78281136e-05 -1.29618134e-05\n",
      " -3.94838441e-06  3.94838441e-06  1.29618134e-05  1.78281136e-05\n",
      "  3.70431847e-05  7.57718387e-01]\n",
      "INFO:trap_model:Err 0.11482061160579762\n"
     ]
    },
    {
     "name": "stdout",
     "output_type": "stream",
     "text": [
      "         Current function value: -392218078856154060133761024.000000\n",
      "         Iterations: 400\n",
      "         Function evaluations: 401\n",
      "         Gradient evaluations: 401\n",
      "         Hessian evaluations: 400\n"
     ]
    },
    {
     "name": "stderr",
     "output_type": "stream",
     "text": [
      "INFO:trap_model:[-7.57718387e-01 -3.70431847e-05 -1.78281136e-05 -1.29618134e-05\n",
      " -3.94838441e-06  3.94838441e-06  1.29618134e-05  1.78281136e-05\n",
      "  3.70431847e-05  7.57718387e-01]\n",
      "INFO:trap_model:Err 0.11482061160579762\n"
     ]
    },
    {
     "name": "stdout",
     "output_type": "stream",
     "text": [
      "         Current function value: -392218078856154060133761024.000000\n",
      "         Iterations: 400\n",
      "         Function evaluations: 401\n",
      "         Gradient evaluations: 401\n",
      "         Hessian evaluations: 400\n"
     ]
    },
    {
     "name": "stderr",
     "output_type": "stream",
     "text": [
      "INFO:trap_model:[-7.57718387e-01 -3.70431847e-05 -1.78281136e-05 -1.29618134e-05\n",
      " -3.94838441e-06  3.94838441e-06  1.29618134e-05  1.78281136e-05\n",
      "  3.70431847e-05  7.57718387e-01]\n",
      "INFO:trap_model:Err 0.11482061160579762\n"
     ]
    },
    {
     "name": "stdout",
     "output_type": "stream",
     "text": [
      "         Current function value: -392218078856154060133761024.000000\n",
      "         Iterations: 400\n",
      "         Function evaluations: 401\n",
      "         Gradient evaluations: 401\n",
      "         Hessian evaluations: 400\n"
     ]
    },
    {
     "name": "stderr",
     "output_type": "stream",
     "text": [
      "INFO:trap_model:[-7.57718387e-01 -3.70431847e-05 -1.78281136e-05 -1.29618134e-05\n",
      " -3.94838441e-06  3.94838441e-06  1.29618134e-05  1.78281136e-05\n",
      "  3.70431847e-05  7.57718387e-01]\n",
      "INFO:trap_model:Err 0.11482061160579762\n"
     ]
    },
    {
     "name": "stdout",
     "output_type": "stream",
     "text": [
      "         Current function value: -392218078856154060133761024.000000\n",
      "         Iterations: 400\n",
      "         Function evaluations: 401\n",
      "         Gradient evaluations: 401\n",
      "         Hessian evaluations: 400\n"
     ]
    },
    {
     "name": "stderr",
     "output_type": "stream",
     "text": [
      "INFO:trap_model:[-7.57718387e-01 -3.70431847e-05 -1.78281136e-05 -1.29618134e-05\n",
      " -3.94838441e-06  3.94838441e-06  1.29618134e-05  1.78281136e-05\n",
      "  3.70431847e-05  7.57718387e-01]\n",
      "INFO:trap_model:Err 0.11482061160579762\n"
     ]
    },
    {
     "name": "stdout",
     "output_type": "stream",
     "text": [
      "         Current function value: -392218078856154060133761024.000000\n",
      "         Iterations: 400\n",
      "         Function evaluations: 401\n",
      "         Gradient evaluations: 401\n",
      "         Hessian evaluations: 400\n"
     ]
    },
    {
     "name": "stderr",
     "output_type": "stream",
     "text": [
      "INFO:trap_model:[-7.57718387e-01 -3.70431847e-05 -1.78281136e-05 -1.29618134e-05\n",
      " -3.94838441e-06  3.94838441e-06  1.29618134e-05  1.78281136e-05\n",
      "  3.70431847e-05  7.57718387e-01]\n",
      "INFO:trap_model:Err 0.11482061160579762\n"
     ]
    },
    {
     "name": "stdout",
     "output_type": "stream",
     "text": [
      "         Current function value: -392218078856154060133761024.000000\n",
      "         Iterations: 400\n",
      "         Function evaluations: 401\n",
      "         Gradient evaluations: 401\n",
      "         Hessian evaluations: 400\n"
     ]
    },
    {
     "name": "stderr",
     "output_type": "stream",
     "text": [
      "INFO:trap_model:[-7.57718387e-01 -3.70431847e-05 -1.78281136e-05 -1.29618134e-05\n",
      " -3.94838441e-06  3.94838441e-06  1.29618134e-05  1.78281136e-05\n",
      "  3.70431847e-05  7.57718387e-01]\n",
      "INFO:trap_model:Err 0.11482061160579762\n"
     ]
    },
    {
     "name": "stdout",
     "output_type": "stream",
     "text": [
      "         Current function value: -392218078856154060133761024.000000\n",
      "         Iterations: 400\n",
      "         Function evaluations: 401\n",
      "         Gradient evaluations: 401\n",
      "         Hessian evaluations: 400\n",
      "RUNNING THE L-BFGS-B CODE\n",
      "\n",
      "           * * *\n",
      "\n",
      "Machine precision = 2.220D-16\n",
      " N =           10     M =           10\n",
      "\n",
      "At X0         0 variables are exactly at the bounds\n",
      "\n",
      "At iterate    0    f=  1.14821D-01    |proj g|=  0.00000D+00\n",
      "\n",
      "           * * *\n",
      "\n",
      "Tit   = total number of iterations\n",
      "Tnf   = total number of function evaluations\n",
      "Tnint = total number of segments explored during Cauchy searches\n",
      "Skip  = number of BFGS updates skipped\n",
      "Nact  = number of active bounds at final generalized Cauchy point\n",
      "Projg = norm of the final projected gradient\n",
      "F     = final function value\n",
      "\n",
      "           * * *\n",
      "\n",
      "   N    Tit     Tnf  Tnint  Skip  Nact     Projg        F\n",
      "   10      0      1      0     0     0   0.000D+00   1.148D-01\n",
      "  F =  0.11482061160579762     \n",
      "\n",
      "CONVERGENCE: NORM_OF_PROJECTED_GRADIENT_<=_PGTOL            \n"
     ]
    },
    {
     "name": "stderr",
     "output_type": "stream",
     "text": [
      " This problem is unconstrained.\n"
     ]
    },
    {
     "name": "stdout",
     "output_type": "stream",
     "text": [
      "         Current function value: -392218078856154060133761024.000000\n",
      "         Iterations: 400\n",
      "         Function evaluations: 401\n",
      "         Gradient evaluations: 401\n",
      "         Hessian evaluations: 400\n"
     ]
    }
   ],
   "source": [
    "from potentials import ArbitrarySymmetricPolynomialPotential\n",
    "from trap_model import TrapModel\n",
    "V=ArbitrarySymmetricPolynomialPotential(8)\n",
    "model=TrapModel(V,10)\n",
    "#model.calc_ion_eq_pos(verbose=True)\n",
    "model.optimize_ion_pos(5e-6)"
   ]
  },
  {
   "cell_type": "code",
   "execution_count": 3,
   "metadata": {
    "metadata": {}
   },
   "outputs": [
    {
     "data": {
      "text/plain": [
       "array([-7.57718387e-01, -3.70431847e-05, -1.78281136e-05, -1.29618134e-05,\n",
       "       -3.94838441e-06,  3.94838441e-06,  1.29618134e-05,  1.78281136e-05,\n",
       "        3.70431847e-05,  7.57718387e-01])"
      ]
     },
     "execution_count": 3,
     "metadata": {},
     "output_type": "execute_result"
    }
   ],
   "source": [
    "from scipy.constants import atomic_mass\n",
    "model.ion_pos"
   ]
  },
  {
   "cell_type": "code",
   "execution_count": 4,
   "metadata": {},
   "outputs": [],
   "source": [
    "import matplotlib.pyplot as plt\n",
    "#plt.plot([model.V.calc_static_pot(x) for x in np.linspace(-.5, .5)])"
   ]
  },
  {
   "cell_type": "code",
   "execution_count": null,
   "metadata": {},
   "outputs": [],
   "source": []
  }
 ],
 "metadata": {
  "kernelspec": {
   "display_name": "iontraps",
   "language": "python",
   "name": "python3"
  },
  "language_info": {
   "codemirror_mode": {
    "name": "ipython",
    "version": 3
   },
   "file_extension": ".py",
   "mimetype": "text/x-python",
   "name": "python",
   "nbconvert_exporter": "python",
   "pygments_lexer": "ipython3",
   "version": "3.12.0"
  }
 },
 "nbformat": 4,
 "nbformat_minor": 2
}

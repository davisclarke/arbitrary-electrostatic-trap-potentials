{
 "cells": [
  {
   "cell_type": "code",
   "execution_count": 1,
   "metadata": {
    "metadata": {}
   },
   "outputs": [
    {
     "data": {
      "text/latex": [
       "$\\displaystyle 8 x^{3} + 2 x$"
      ],
      "text/plain": [
       "8*x**3 + 2*x"
      ]
     },
     "execution_count": 1,
     "metadata": {},
     "output_type": "execute_result"
    }
   ],
   "source": [
    "import numpy as np\n",
    "from math import factorial\n",
    "import sympy\n",
    "x=sympy.Symbol('x')\n",
    "Phi=np.sum([(factorial(n))\n",
    "            *(np.power(x,(2*n))) for n in range(3)])\n",
    "sympy.Derivative(Phi,x, evaluate=True)"
   ]
  },
  {
   "cell_type": "code",
   "execution_count": 2,
   "metadata": {
    "metadata": {}
   },
   "outputs": [
    {
     "data": {
      "text/plain": [
       "[1, x**2, 2*x**4]"
      ]
     },
     "execution_count": 2,
     "metadata": {},
     "output_type": "execute_result"
    }
   ],
   "source": [
    "([(factorial(n))\n",
    "            *(np.power(x,(2*n))) for n in range(3)])"
   ]
  },
  {
   "cell_type": "code",
   "execution_count": 3,
   "metadata": {
    "metadata": {}
   },
   "outputs": [
    {
     "ename": "AttributeError",
     "evalue": "'ArbitrarySymmetricPolynomialPotential' object has no attribute 'c0'",
     "output_type": "error",
     "traceback": [
      "\u001b[0;31m---------------------------------------------------------------------------\u001b[0m",
      "\u001b[0;31mAttributeError\u001b[0m                            Traceback (most recent call last)",
      "Cell \u001b[0;32mIn[3], line 6\u001b[0m\n\u001b[1;32m      4\u001b[0m model\u001b[38;5;241m=\u001b[39mTrapModel(V,\u001b[38;5;241m5\u001b[39m)\n\u001b[1;32m      5\u001b[0m model\u001b[38;5;241m.\u001b[39mcalc_ion_eq_pos(verbose\u001b[38;5;241m=\u001b[39m\u001b[38;5;28;01mFalse\u001b[39;00m)\n\u001b[0;32m----> 6\u001b[0m \u001b[43mmodel\u001b[49m\u001b[38;5;241;43m.\u001b[39;49m\u001b[43moptimize_ion_pos\u001b[49m\u001b[43m(\u001b[49m\u001b[38;5;241;43m5e-6\u001b[39;49m\u001b[43m)\u001b[49m\n",
      "File \u001b[0;32m~/arbitrary-electrostatic-trap-potentials/trap_model.py:49\u001b[0m, in \u001b[0;36mTrapModel.optimize_ion_pos\u001b[0;34m(self, ideal_spacing, verbose)\u001b[0m\n\u001b[1;32m     47\u001b[0m c0\u001b[38;5;241m=\u001b[39m[]\n\u001b[1;32m     48\u001b[0m \u001b[38;5;28;01mfor\u001b[39;00m p \u001b[38;5;129;01min\u001b[39;00m \u001b[38;5;28mself\u001b[39m\u001b[38;5;241m.\u001b[39mV\u001b[38;5;241m.\u001b[39mopt_args:\n\u001b[0;32m---> 49\u001b[0m     c0\u001b[38;5;241m.\u001b[39mappend(\u001b[38;5;28;43mgetattr\u001b[39;49m\u001b[43m(\u001b[49m\u001b[38;5;28;43mself\u001b[39;49m\u001b[43m \u001b[49m\u001b[38;5;241;43m.\u001b[39;49m\u001b[43mV\u001b[49m\u001b[43m,\u001b[49m\u001b[43m \u001b[49m\u001b[43mp\u001b[49m\u001b[43m)\u001b[49m)\n\u001b[1;32m     51\u001b[0m \u001b[38;5;28;01mdef\u001b[39;00m \u001b[38;5;21mc\u001b[39m(cost): \n\u001b[1;32m     52\u001b[0m     \u001b[38;5;28mself\u001b[39m\u001b[38;5;241m.\u001b[39mV\u001b[38;5;241m.\u001b[39moptimize_params(cost)\n",
      "\u001b[0;31mAttributeError\u001b[0m: 'ArbitrarySymmetricPolynomialPotential' object has no attribute 'c0'"
     ]
    }
   ],
   "source": [
    "from potentials import ArbitrarySymmetricPolynomialPotential\n",
    "from trap_model import TrapModel\n",
    "V=ArbitrarySymmetricPolynomialPotential(2)\n",
    "model=TrapModel(V,5)\n",
    "model.calc_ion_eq_pos(verbose=False)\n",
    "model.optimize_ion_pos(5e-6)"
   ]
  },
  {
   "cell_type": "code",
   "execution_count": null,
   "metadata": {
    "metadata": {}
   },
   "outputs": [
    {
     "data": {
      "text/plain": [
       "1.6605390666e-27"
      ]
     },
     "execution_count": 4,
     "metadata": {},
     "output_type": "execute_result"
    }
   ],
   "source": [
    "from scipy.constants import atomic_mass\n",
    "atomic_mass"
   ]
  },
  {
   "cell_type": "code",
   "execution_count": null,
   "metadata": {},
   "outputs": [],
   "source": []
  }
 ],
 "metadata": {
  "kernelspec": {
   "display_name": "iontraps",
   "language": "python",
   "name": "python3"
  },
  "language_info": {
   "codemirror_mode": {
    "name": "ipython",
    "version": 3
   },
   "file_extension": ".py",
   "mimetype": "text/x-python",
   "name": "python",
   "nbconvert_exporter": "python",
   "pygments_lexer": "ipython3",
   "version": "3.10.13"
  }
 },
 "nbformat": 4,
 "nbformat_minor": 2
}
